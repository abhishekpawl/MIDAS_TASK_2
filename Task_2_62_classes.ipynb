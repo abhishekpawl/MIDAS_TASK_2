{
 "cells": [
  {
   "cell_type": "markdown",
   "metadata": {},
   "source": [
    "# Task 2"
   ]
  },
  {
   "cell_type": "markdown",
   "metadata": {},
   "source": [
    "<b>Name:</b> Abhishek Paul"
   ]
  },
  {
   "cell_type": "markdown",
   "metadata": {},
   "source": [
    "<h2 style=\"color:green\">Part 1</h2>"
   ]
  },
  {
   "cell_type": "markdown",
   "metadata": {},
   "source": [
    "### Importing all the necessary libraries."
   ]
  },
  {
   "cell_type": "markdown",
   "metadata": {},
   "source": [
    "<b>numpy</b> - to work with arrays.<br/>\n",
    "<b>cv2</b> - to work with images.<br/>\n",
    "<b>os</b> - to work with directories and for importing images.<br/>\n",
    "<b>random</b> - to randomly shuffle the sets.<br/>\n",
    "<b>pyplot</b> - library: <i>matplotlib</i> - to visualize the images.<br/>\n",
    "<b>tensorflow</b> - to make the model."
   ]
  },
  {
   "cell_type": "code",
   "execution_count": 1,
   "metadata": {},
   "outputs": [
    {
     "name": "stderr",
     "output_type": "stream",
     "text": [
      "C:\\ProgramData\\Anaconda3\\lib\\site-packages\\tensorflow\\python\\framework\\dtypes.py:523: FutureWarning: Passing (type, 1) or '1type' as a synonym of type is deprecated; in a future version of numpy, it will be understood as (type, (1,)) / '(1,)type'.\n",
      "  _np_qint8 = np.dtype([(\"qint8\", np.int8, 1)])\n",
      "C:\\ProgramData\\Anaconda3\\lib\\site-packages\\tensorflow\\python\\framework\\dtypes.py:524: FutureWarning: Passing (type, 1) or '1type' as a synonym of type is deprecated; in a future version of numpy, it will be understood as (type, (1,)) / '(1,)type'.\n",
      "  _np_quint8 = np.dtype([(\"quint8\", np.uint8, 1)])\n",
      "C:\\ProgramData\\Anaconda3\\lib\\site-packages\\tensorflow\\python\\framework\\dtypes.py:525: FutureWarning: Passing (type, 1) or '1type' as a synonym of type is deprecated; in a future version of numpy, it will be understood as (type, (1,)) / '(1,)type'.\n",
      "  _np_qint16 = np.dtype([(\"qint16\", np.int16, 1)])\n",
      "C:\\ProgramData\\Anaconda3\\lib\\site-packages\\tensorflow\\python\\framework\\dtypes.py:526: FutureWarning: Passing (type, 1) or '1type' as a synonym of type is deprecated; in a future version of numpy, it will be understood as (type, (1,)) / '(1,)type'.\n",
      "  _np_quint16 = np.dtype([(\"quint16\", np.uint16, 1)])\n",
      "C:\\ProgramData\\Anaconda3\\lib\\site-packages\\tensorflow\\python\\framework\\dtypes.py:527: FutureWarning: Passing (type, 1) or '1type' as a synonym of type is deprecated; in a future version of numpy, it will be understood as (type, (1,)) / '(1,)type'.\n",
      "  _np_qint32 = np.dtype([(\"qint32\", np.int32, 1)])\n",
      "C:\\ProgramData\\Anaconda3\\lib\\site-packages\\tensorflow\\python\\framework\\dtypes.py:532: FutureWarning: Passing (type, 1) or '1type' as a synonym of type is deprecated; in a future version of numpy, it will be understood as (type, (1,)) / '(1,)type'.\n",
      "  np_resource = np.dtype([(\"resource\", np.ubyte, 1)])\n",
      "C:\\ProgramData\\Anaconda3\\lib\\site-packages\\tensorboard\\compat\\tensorflow_stub\\dtypes.py:541: FutureWarning: Passing (type, 1) or '1type' as a synonym of type is deprecated; in a future version of numpy, it will be understood as (type, (1,)) / '(1,)type'.\n",
      "  _np_qint8 = np.dtype([(\"qint8\", np.int8, 1)])\n",
      "C:\\ProgramData\\Anaconda3\\lib\\site-packages\\tensorboard\\compat\\tensorflow_stub\\dtypes.py:542: FutureWarning: Passing (type, 1) or '1type' as a synonym of type is deprecated; in a future version of numpy, it will be understood as (type, (1,)) / '(1,)type'.\n",
      "  _np_quint8 = np.dtype([(\"quint8\", np.uint8, 1)])\n",
      "C:\\ProgramData\\Anaconda3\\lib\\site-packages\\tensorboard\\compat\\tensorflow_stub\\dtypes.py:543: FutureWarning: Passing (type, 1) or '1type' as a synonym of type is deprecated; in a future version of numpy, it will be understood as (type, (1,)) / '(1,)type'.\n",
      "  _np_qint16 = np.dtype([(\"qint16\", np.int16, 1)])\n",
      "C:\\ProgramData\\Anaconda3\\lib\\site-packages\\tensorboard\\compat\\tensorflow_stub\\dtypes.py:544: FutureWarning: Passing (type, 1) or '1type' as a synonym of type is deprecated; in a future version of numpy, it will be understood as (type, (1,)) / '(1,)type'.\n",
      "  _np_quint16 = np.dtype([(\"quint16\", np.uint16, 1)])\n",
      "C:\\ProgramData\\Anaconda3\\lib\\site-packages\\tensorboard\\compat\\tensorflow_stub\\dtypes.py:545: FutureWarning: Passing (type, 1) or '1type' as a synonym of type is deprecated; in a future version of numpy, it will be understood as (type, (1,)) / '(1,)type'.\n",
      "  _np_qint32 = np.dtype([(\"qint32\", np.int32, 1)])\n",
      "C:\\ProgramData\\Anaconda3\\lib\\site-packages\\tensorboard\\compat\\tensorflow_stub\\dtypes.py:550: FutureWarning: Passing (type, 1) or '1type' as a synonym of type is deprecated; in a future version of numpy, it will be understood as (type, (1,)) / '(1,)type'.\n",
      "  np_resource = np.dtype([(\"resource\", np.ubyte, 1)])\n"
     ]
    }
   ],
   "source": [
    "import numpy as np\n",
    "import cv2 as cv\n",
    "import os\n",
    "import random\n",
    "import matplotlib.pyplot as plt\n",
    "import tensorflow as tf"
   ]
  },
  {
   "cell_type": "markdown",
   "metadata": {},
   "source": [
    "Storing the path of the folder containing the training set images as a raw string in a variable 'dir'.<br/>We are storing it as a raw string because we <b>don't</b> want treat the <b>'\\\\'</b> characters as escape characters."
   ]
  },
  {
   "cell_type": "code",
   "execution_count": 2,
   "metadata": {},
   "outputs": [],
   "source": [
    "dir = r'C:\\Users\\acer\\Desktop\\MIDAS_TASK_2\\train';"
   ]
  },
  {
   "cell_type": "markdown",
   "metadata": {},
   "source": [
    "Storing the names of the first ten folders containing - 0, 1, 2, 3, 4, 5, 6, 7, 8, 9."
   ]
  },
  {
   "cell_type": "code",
   "execution_count": 3,
   "metadata": {},
   "outputs": [],
   "source": [
    "class_list = []\n",
    "for i in range(0, 62):\n",
    "    class_list.append(i)"
   ]
  },
  {
   "cell_type": "code",
   "execution_count": 4,
   "metadata": {},
   "outputs": [
    {
     "name": "stdout",
     "output_type": "stream",
     "text": [
      "[0, 1, 2, 3, 4, 5, 6, 7, 8, 9, 10, 11, 12, 13, 14, 15, 16, 17, 18, 19, 20, 21, 22, 23, 24, 25, 26, 27, 28, 29, 30, 31, 32, 33, 34, 35, 36, 37, 38, 39, 40, 41, 42, 43, 44, 45, 46, 47, 48, 49, 50, 51, 52, 53, 54, 55, 56, 57, 58, 59, 60, 61]\n"
     ]
    }
   ],
   "source": [
    "print(class_list)"
   ]
  },
  {
   "cell_type": "markdown",
   "metadata": {},
   "source": [
    "### Importing the images."
   ]
  },
  {
   "cell_type": "markdown",
   "metadata": {},
   "source": [
    "Importing the images and resizing the images to a shape of 64x64 pixels."
   ]
  },
  {
   "cell_type": "code",
   "execution_count": 5,
   "metadata": {},
   "outputs": [],
   "source": [
    "data = list()\n",
    "\n",
    "for c in class_list:\n",
    "    folder = os.path.join(dir, str(c))\n",
    "    label = c\n",
    "    for img in os.listdir(folder):\n",
    "        img_path = os.path.join(folder, img)\n",
    "        img_arr = cv.imread(img_path, 0)\n",
    "        img_arr = cv.resize(img_arr, (64, 64))\n",
    "        data.append([img_arr, label]) "
   ]
  },
  {
   "cell_type": "markdown",
   "metadata": {},
   "source": [
    "Randomly shuffling the data."
   ]
  },
  {
   "cell_type": "code",
   "execution_count": 6,
   "metadata": {},
   "outputs": [],
   "source": [
    "random.shuffle(data)"
   ]
  },
  {
   "cell_type": "markdown",
   "metadata": {},
   "source": [
    "Differently storing the image array and the categories(classes)."
   ]
  },
  {
   "cell_type": "code",
   "execution_count": 7,
   "metadata": {},
   "outputs": [],
   "source": [
    "train_x = list()\n",
    "train_y = list()\n",
    "\n",
    "for img, label in data:\n",
    "    train_x.append(img)\n",
    "    train_y.append(label)"
   ]
  },
  {
   "cell_type": "markdown",
   "metadata": {},
   "source": [
    "Converting the image list and the label list into numpy array for furthern operations."
   ]
  },
  {
   "cell_type": "code",
   "execution_count": 8,
   "metadata": {},
   "outputs": [],
   "source": [
    "train_x = np.array(train_x)\n",
    "train_y = np.array(train_y)"
   ]
  },
  {
   "cell_type": "markdown",
   "metadata": {},
   "source": [
    "#### One-hot encoding the classes as we will be using categorical cross-entropy as the loss function in our model."
   ]
  },
  {
   "cell_type": "code",
   "execution_count": 9,
   "metadata": {},
   "outputs": [],
   "source": [
    "train_y = tf.keras.utils.to_categorical(train_y, 62)"
   ]
  },
  {
   "cell_type": "code",
   "execution_count": 10,
   "metadata": {},
   "outputs": [
    {
     "data": {
      "text/plain": [
       "(2480, 64, 64)"
      ]
     },
     "execution_count": 10,
     "metadata": {},
     "output_type": "execute_result"
    }
   ],
   "source": [
    "train_x.shape"
   ]
  },
  {
   "cell_type": "code",
   "execution_count": 11,
   "metadata": {},
   "outputs": [
    {
     "data": {
      "text/plain": [
       "<matplotlib.image.AxesImage at 0x1a70b212248>"
      ]
     },
     "execution_count": 11,
     "metadata": {},
     "output_type": "execute_result"
    },
    {
     "data": {
      "image/png": "[encoded data removed]",
      "text/plain": [
       "<Figure size 432x288 with 1 Axes>"
      ]
     },
     "metadata": {
      "needs_background": "light"
     },
     "output_type": "display_data"
    }
   ],
   "source": [
    "plt.imshow(train_x[0])"
   ]
  },
  {
   "cell_type": "code",
   "execution_count": 12,
   "metadata": {},
   "outputs": [
    {
     "data": {
      "text/plain": [
       "array([0., 0., 0., 0., 0., 0., 0., 0., 0., 0., 0., 0., 0., 0., 0., 0., 0.,\n",
       "       0., 0., 0., 0., 0., 0., 0., 0., 0., 0., 0., 0., 0., 0., 0., 0., 0.,\n",
       "       0., 0., 1., 0., 0., 0., 0., 0., 0., 0., 0., 0., 0., 0., 0., 0., 0.,\n",
       "       0., 0., 0., 0., 0., 0., 0., 0., 0., 0., 0.], dtype=float32)"
      ]
     },
     "execution_count": 12,
     "metadata": {},
     "output_type": "execute_result"
    }
   ],
   "source": [
    "train_y[0]"
   ]
  },
  {
   "cell_type": "markdown",
   "metadata": {},
   "source": [
    "Expanding the shape of the image array so as to fit in the input of the model."
   ]
  },
  {
   "cell_type": "code",
   "execution_count": 13,
   "metadata": {},
   "outputs": [],
   "source": [
    "train_x = np.expand_dims(train_x, axis=3)"
   ]
  },
  {
   "cell_type": "markdown",
   "metadata": {},
   "source": [
    "# Building the convolutional nueral network(CNN)"
   ]
  },
  {
   "cell_type": "markdown",
   "metadata": {},
   "source": [
    "I have built a fairly simple model because the dataset contains of numbers and alphabets instead of real world images and hence there will be less features."
   ]
  },
  {
   "cell_type": "markdown",
   "metadata": {},
   "source": [
    "### Initializing the model."
   ]
  },
  {
   "cell_type": "code",
   "execution_count": 14,
   "metadata": {},
   "outputs": [],
   "source": [
    "cnn = tf.keras.models.Sequential()"
   ]
  },
  {
   "cell_type": "markdown",
   "metadata": {},
   "source": [
    "### Adding the convolutional layers to extract the features."
   ]
  },
  {
   "cell_type": "markdown",
   "metadata": {},
   "source": [
    "#### Adding the first convolutional layer having 32 filters, a 3x3 kernel size and using the rectified linear unit(ReLU) activation function."
   ]
  },
  {
   "cell_type": "code",
   "execution_count": 15,
   "metadata": {},
   "outputs": [],
   "source": [
    "cnn.add(tf.keras.layers.Conv2D(filters=32, kernel_size=3, activation='relu', input_shape=[64, 64, 1]))"
   ]
  },
  {
   "cell_type": "markdown",
   "metadata": {},
   "source": [
    "#### Adding the first convolutional layer having 64 filters, a 3x3 kernel size and using the rectified linear unit(ReLU) activation function."
   ]
  },
  {
   "cell_type": "code",
   "execution_count": 16,
   "metadata": {},
   "outputs": [],
   "source": [
    "cnn.add(tf.keras.layers.Conv2D(filters=64, kernel_size=3, activation='relu'))"
   ]
  },
  {
   "cell_type": "markdown",
   "metadata": {},
   "source": [
    "#### Adding the first convolutional layer having 128 filters, a 3x3 kernel size and using the rectified linear unit(ReLU) activation function."
   ]
  },
  {
   "cell_type": "code",
   "execution_count": 17,
   "metadata": {},
   "outputs": [],
   "source": [
    "cnn.add(tf.keras.layers.Conv2D(filters=128, kernel_size=3, activation='relu'))"
   ]
  },
  {
   "cell_type": "markdown",
   "metadata": {},
   "source": [
    "### Adding the MaxPooling layer to downsample the convoluted arrays."
   ]
  },
  {
   "cell_type": "code",
   "execution_count": 18,
   "metadata": {},
   "outputs": [],
   "source": [
    "cnn.add(tf.keras.layers.MaxPool2D(pool_size=(2,2), strides=1))"
   ]
  },
  {
   "cell_type": "markdown",
   "metadata": {},
   "source": [
    "### Adding a dropout layer to prevent overfitting."
   ]
  },
  {
   "cell_type": "code",
   "execution_count": 19,
   "metadata": {},
   "outputs": [],
   "source": [
    "cnn.add(tf.keras.layers.Dropout(0.2))"
   ]
  },
  {
   "cell_type": "markdown",
   "metadata": {},
   "source": [
    "### Adding a flattening layer."
   ]
  },
  {
   "cell_type": "markdown",
   "metadata": {},
   "source": [
    "Adding the flattening layer to flatten the arrays before feeding it into the neurons."
   ]
  },
  {
   "cell_type": "code",
   "execution_count": 20,
   "metadata": {},
   "outputs": [],
   "source": [
    "cnn.add(tf.keras.layers.Flatten())"
   ]
  },
  {
   "cell_type": "markdown",
   "metadata": {},
   "source": [
    "### Adding the dense neural network having 128 neurons and using the Rectified Linear Unit(ReLU) activation function."
   ]
  },
  {
   "cell_type": "code",
   "execution_count": 21,
   "metadata": {},
   "outputs": [],
   "source": [
    "cnn.add(tf.keras.layers.Dense(128, activation='relu'))"
   ]
  },
  {
   "cell_type": "markdown",
   "metadata": {},
   "source": [
    "### Adding the final output layer using the softmax function for categorical classification."
   ]
  },
  {
   "cell_type": "code",
   "execution_count": 22,
   "metadata": {},
   "outputs": [],
   "source": [
    "cnn.add(tf.keras.layers.Dense(62, activation='softmax'))"
   ]
  },
  {
   "cell_type": "markdown",
   "metadata": {},
   "source": [
    "## Compiling the model"
   ]
  },
  {
   "cell_type": "code",
   "execution_count": 23,
   "metadata": {},
   "outputs": [],
   "source": [
    "cnn.compile(optimizer='adam', loss='categorical_crossentropy', metrics=['accuracy'])"
   ]
  },
  {
   "cell_type": "markdown",
   "metadata": {},
   "source": [
    "# Training the model"
   ]
  },
  {
   "cell_type": "markdown",
   "metadata": {},
   "source": [
    "Implementing mini-batch gradient descent in batches of 64 images and 15 epochs, using 20% of the dataset as validation set."
   ]
  },
  {
   "cell_type": "code",
   "execution_count": 24,
   "metadata": {},
   "outputs": [
    {
     "name": "stdout",
     "output_type": "stream",
     "text": [
      "Train on 1984 samples, validate on 496 samples\n",
      "Epoch 1/15\n",
      "1984/1984 [==============================] - 68s 34ms/sample - loss: 262.4840 - accuracy: 0.0131 - val_loss: 4.0983 - val_accuracy: 0.0363\n",
      "Epoch 2/15\n",
      "1984/1984 [==============================] - 69s 35ms/sample - loss: 3.8455 - accuracy: 0.0958 - val_loss: 3.6222 - val_accuracy: 0.1492\n",
      "Epoch 3/15\n",
      "1984/1984 [==============================] - 66s 33ms/sample - loss: 2.3058 - accuracy: 0.4229 - val_loss: 3.8976 - val_accuracy: 0.2520\n",
      "Epoch 4/15\n",
      "1984/1984 [==============================] - 67s 34ms/sample - loss: 0.9787 - accuracy: 0.7303 - val_loss: 4.4876 - val_accuracy: 0.2540\n",
      "Epoch 5/15\n",
      "1984/1984 [==============================] - 71s 36ms/sample - loss: 0.4058 - accuracy: 0.8982 - val_loss: 5.3716 - val_accuracy: 0.2278\n",
      "Epoch 6/15\n",
      "1984/1984 [==============================] - 71s 36ms/sample - loss: 0.2301 - accuracy: 0.9410 - val_loss: 5.7716 - val_accuracy: 0.2581\n",
      "Epoch 7/15\n",
      "1984/1984 [==============================] - 71s 36ms/sample - loss: 0.1398 - accuracy: 0.9682 - val_loss: 6.3292 - val_accuracy: 0.2581\n",
      "Epoch 8/15\n",
      "1984/1984 [==============================] - 70s 35ms/sample - loss: 0.1166 - accuracy: 0.9703 - val_loss: 6.3185 - val_accuracy: 0.2359\n",
      "Epoch 9/15\n",
      "1984/1984 [==============================] - 70s 35ms/sample - loss: 0.0976 - accuracy: 0.9793 - val_loss: 6.9859 - val_accuracy: 0.2520\n",
      "Epoch 10/15\n",
      "1984/1984 [==============================] - 70s 35ms/sample - loss: 0.0845 - accuracy: 0.9819 - val_loss: 7.1937 - val_accuracy: 0.2802\n",
      "Epoch 11/15\n",
      "1984/1984 [==============================] - 70s 35ms/sample - loss: 0.0570 - accuracy: 0.9904 - val_loss: 7.9427 - val_accuracy: 0.2681\n",
      "Epoch 12/15\n",
      "1984/1984 [==============================] - 70s 35ms/sample - loss: 0.0638 - accuracy: 0.9854 - val_loss: 7.7863 - val_accuracy: 0.2581\n",
      "Epoch 13/15\n",
      "1984/1984 [==============================] - 70s 35ms/sample - loss: 0.0707 - accuracy: 0.9824 - val_loss: 7.0096 - val_accuracy: 0.2581\n",
      "Epoch 14/15\n",
      "1984/1984 [==============================] - 71s 36ms/sample - loss: 0.0747 - accuracy: 0.9798 - val_loss: 7.5201 - val_accuracy: 0.2702\n",
      "Epoch 15/15\n",
      "1984/1984 [==============================] - 70s 35ms/sample - loss: 0.0641 - accuracy: 0.9859 - val_loss: 7.5211 - val_accuracy: 0.2601\n"
     ]
    },
    {
     "data": {
      "text/plain": [
       "<tensorflow.python.keras.callbacks.History at 0x1a70914f8c8>"
      ]
     },
     "execution_count": 24,
     "metadata": {},
     "output_type": "execute_result"
    }
   ],
   "source": [
    "cnn.fit(x=train_x, y=train_y, batch_size=64, validation_split=0.2, epochs=15)"
   ]
  },
  {
   "cell_type": "markdown",
   "metadata": {},
   "source": [
    "<h2 style=\"color:green\">Part 2</h2>"
   ]
  },
  {
   "cell_type": "markdown",
   "metadata": {},
   "source": [
    "Importing the image array and the label array for training the model."
   ]
  },
  {
   "cell_type": "markdown",
   "metadata": {},
   "source": [
    "Importing the 'idx2numpy' library."
   ]
  },
  {
   "cell_type": "code",
   "execution_count": 25,
   "metadata": {},
   "outputs": [],
   "source": [
    "import idx2numpy"
   ]
  },
  {
   "cell_type": "code",
   "execution_count": 26,
   "metadata": {},
   "outputs": [],
   "source": [
    "image_set = 'train-images.idx3-ubyte'\n",
    "trainarray = idx2numpy.convert_from_file(image_set)\n",
    "\n",
    "labels = 'train-labels.idx1-ubyte'\n",
    "labelarray = idx2numpy.convert_from_file(labels)"
   ]
  },
  {
   "cell_type": "markdown",
   "metadata": {},
   "source": [
    "Rescaling the images into 64x64 pixels."
   ]
  },
  {
   "cell_type": "code",
   "execution_count": 27,
   "metadata": {},
   "outputs": [
    {
     "data": {
      "text/plain": [
       "((60000, 64, 64), (60000,))"
      ]
     },
     "execution_count": 27,
     "metadata": {},
     "output_type": "execute_result"
    }
   ],
   "source": [
    "task_images = list()\n",
    "\n",
    "for i in range(trainarray.shape[0]):\n",
    "    task_images.append(cv.resize(trainarray[i], (64, 64)))\n",
    "\n",
    "task_images = 255 - np.array(task_images)\n",
    "task_images.shape, labelarray.shape"
   ]
  },
  {
   "cell_type": "markdown",
   "metadata": {},
   "source": [
    "Expanding the shape of the image array so as to fit in the input of the model."
   ]
  },
  {
   "cell_type": "code",
   "execution_count": 28,
   "metadata": {},
   "outputs": [],
   "source": [
    "task_images = np.expand_dims(task_images, axis=3)"
   ]
  },
  {
   "cell_type": "markdown",
   "metadata": {},
   "source": [
    "One-hot encoding the classes as we will be using categorical cross-entropy as the loss function in our model."
   ]
  },
  {
   "cell_type": "code",
   "execution_count": 29,
   "metadata": {},
   "outputs": [],
   "source": [
    "labelarray = tf.keras.utils.to_categorical(labelarray, 62)"
   ]
  },
  {
   "cell_type": "markdown",
   "metadata": {},
   "source": [
    "### Training the trained model on the standard mnist training dataset."
   ]
  },
  {
   "cell_type": "code",
   "execution_count": 30,
   "metadata": {},
   "outputs": [
    {
     "name": "stdout",
     "output_type": "stream",
     "text": [
      "Train on 48000 samples, validate on 12000 samples\n",
      "Epoch 1/5\n",
      "48000/48000 [==============================] - 1643s 34ms/sample - loss: 1.1114 - accuracy: 0.7705 - val_loss: 0.2996 - val_accuracy: 0.9277\n",
      "Epoch 2/5\n",
      "48000/48000 [==============================] - 1630s 34ms/sample - loss: 0.2063 - accuracy: 0.9384 - val_loss: 0.1865 - val_accuracy: 0.9488\n",
      "Epoch 3/5\n",
      "48000/48000 [==============================] - 1617s 34ms/sample - loss: 0.1170 - accuracy: 0.9639 - val_loss: 0.1543 - val_accuracy: 0.9565\n",
      "Epoch 4/5\n",
      "48000/48000 [==============================] - 1631s 34ms/sample - loss: 0.0936 - accuracy: 0.9705 - val_loss: 0.1616 - val_accuracy: 0.9547\n",
      "Epoch 5/5\n",
      "48000/48000 [==============================] - 1634s 34ms/sample - loss: 0.0633 - accuracy: 0.9797 - val_loss: 0.2149 - val_accuracy: 0.9597\n"
     ]
    },
    {
     "data": {
      "text/plain": [
       "<tensorflow.python.keras.callbacks.History at 0x1a71997b948>"
      ]
     },
     "execution_count": 30,
     "metadata": {},
     "output_type": "execute_result"
    }
   ],
   "source": [
    "cnn.fit(x=task_images, y=labelarray, batch_size=128, validation_split=0.2, epochs=5)"
   ]
  },
  {
   "cell_type": "markdown",
   "metadata": {},
   "source": [
    "As the model was already trained, the model had some pre-initialized weights, we can say, it had the idea and so the convergence time was pretty quick.<br/>\n",
    "In <i style=\"color:green\">Part 1:</i> validation accuracy was low.<br/>\n",
    "In <i style=\"color:green\">Part 2:</i> validation accuracy was much higher.<br/>\n",
    "### The model has not much <b style=\"color:green\">overfitted</b> on the training data as the training acccuracy and validation accuracy are close as well as the training set loss and the validation loss."
   ]
  },
  {
   "cell_type": "markdown",
   "metadata": {},
   "source": [
    "Importing the test set."
   ]
  },
  {
   "cell_type": "code",
   "execution_count": 31,
   "metadata": {},
   "outputs": [],
   "source": [
    "test = 't10k-images.idx3-ubyte'\n",
    "test_x = idx2numpy.convert_from_file(test)\n",
    "\n",
    "testlabels = 't10k-labels.idx1-ubyte'\n",
    "test_y = idx2numpy.convert_from_file(testlabels)"
   ]
  },
  {
   "cell_type": "markdown",
   "metadata": {},
   "source": [
    "Rescaling the images into 64x64 pixels."
   ]
  },
  {
   "cell_type": "code",
   "execution_count": 32,
   "metadata": {},
   "outputs": [
    {
     "data": {
      "text/plain": [
       "((10000, 64, 64), (10000,))"
      ]
     },
     "execution_count": 32,
     "metadata": {},
     "output_type": "execute_result"
    }
   ],
   "source": [
    "test_images = list()\n",
    "\n",
    "for i in range(test_x.shape[0]):\n",
    "    test_images.append(cv.resize(test_x[i], (64, 64)))\n",
    "\n",
    "test_images = 255 - np.array(test_images)\n",
    "test_images.shape, test_y.shape"
   ]
  },
  {
   "cell_type": "markdown",
   "metadata": {},
   "source": [
    "Expanding the shape of the image array so as to fit in the input of the model."
   ]
  },
  {
   "cell_type": "code",
   "execution_count": 33,
   "metadata": {},
   "outputs": [],
   "source": [
    "test_images = np.expand_dims(test_images, axis=3)"
   ]
  },
  {
   "cell_type": "markdown",
   "metadata": {},
   "source": [
    "One-hot encoding the classes as we will be using categorical cross-entropy as the loss function in our model."
   ]
  },
  {
   "cell_type": "code",
   "execution_count": 34,
   "metadata": {},
   "outputs": [],
   "source": [
    "test_y = tf.keras.utils.to_categorical(test_y, 62)"
   ]
  },
  {
   "cell_type": "code",
   "execution_count": 35,
   "metadata": {},
   "outputs": [
    {
     "name": "stdout",
     "output_type": "stream",
     "text": [
      "10000/10000 [==============================] - 58s 6ms/sample - loss: 0.2225 - accuracy: 0.9587\n"
     ]
    }
   ],
   "source": [
    "results = cnn.evaluate(test_images, test_y, batch_size=128)"
   ]
  },
  {
   "cell_type": "code",
   "execution_count": 36,
   "metadata": {},
   "outputs": [
    {
     "name": "stdout",
     "output_type": "stream",
     "text": [
      "Accuracy: 0.9587\n"
     ]
    }
   ],
   "source": [
    "print(\"Accuracy:\", results[1])"
   ]
  },
  {
   "cell_type": "markdown",
   "metadata": {},
   "source": [
    "The model achieved an accuracy of 95.87% on the standard MNIST test split."
   ]
  },
  {
   "cell_type": "markdown",
   "metadata": {},
   "source": [
    "<h2 style=\"color:green\">Part 3</h2>"
   ]
  },
  {
   "cell_type": "markdown",
   "metadata": {},
   "source": [
    "Provided link: https://www.dropbox.com/s/otc12z2w7f7xm8z/mnistTask3.zip<br/>\n",
    "I handpicked hundreds of each of the 10 digits and moved them to individual folders to organize the data."
   ]
  },
  {
   "cell_type": "markdown",
   "metadata": {},
   "source": [
    "Importing the images for Part 3."
   ]
  },
  {
   "cell_type": "code",
   "execution_count": 37,
   "metadata": {},
   "outputs": [],
   "source": [
    "dir = r'C:\\Users\\acer\\Desktop\\MIDAS_TASK_2\\mnist_task';"
   ]
  },
  {
   "cell_type": "code",
   "execution_count": 38,
   "metadata": {},
   "outputs": [],
   "source": [
    "part3 = list()\n",
    "\n",
    "for c in class_list[:10]:\n",
    "    folder = os.path.join(dir, str(c))\n",
    "    label = c\n",
    "    for img in os.listdir(folder):\n",
    "        img_path = os.path.join(folder, img)\n",
    "        img_arr = cv.imread(img_path, 0)\n",
    "        img_arr = cv.resize(img_arr, (64, 64))\n",
    "        part3.append([img_arr, label]) "
   ]
  },
  {
   "cell_type": "markdown",
   "metadata": {},
   "source": [
    "Randomly shuffling the data."
   ]
  },
  {
   "cell_type": "code",
   "execution_count": 39,
   "metadata": {},
   "outputs": [],
   "source": [
    "random.shuffle(part3)"
   ]
  },
  {
   "cell_type": "code",
   "execution_count": 40,
   "metadata": {},
   "outputs": [],
   "source": [
    "x_3 = list()\n",
    "y_3 = list()\n",
    "\n",
    "for img, label in part3:\n",
    "    x_3.append(img)\n",
    "    y_3.append(label)"
   ]
  },
  {
   "cell_type": "code",
   "execution_count": 41,
   "metadata": {},
   "outputs": [],
   "source": [
    "x_3 = np.array(x_3)\n",
    "y_3 = np.array(y_3)"
   ]
  },
  {
   "cell_type": "code",
   "execution_count": 42,
   "metadata": {},
   "outputs": [],
   "source": [
    "y_3 = tf.keras.utils.to_categorical(y_3, 62)"
   ]
  },
  {
   "cell_type": "code",
   "execution_count": 43,
   "metadata": {},
   "outputs": [],
   "source": [
    "x_3 = np.expand_dims(x_3, axis=3)"
   ]
  },
  {
   "cell_type": "markdown",
   "metadata": {},
   "source": [
    "## Building a similar CNN from scratch with random initialization"
   ]
  },
  {
   "cell_type": "markdown",
   "metadata": {},
   "source": [
    "Initializing the CNN."
   ]
  },
  {
   "cell_type": "code",
   "execution_count": 44,
   "metadata": {},
   "outputs": [],
   "source": [
    "cnn_2 = tf.keras.models.Sequential()"
   ]
  },
  {
   "cell_type": "markdown",
   "metadata": {},
   "source": [
    "Adding the first convolutional layer."
   ]
  },
  {
   "cell_type": "code",
   "execution_count": 45,
   "metadata": {},
   "outputs": [],
   "source": [
    "cnn_2.add(tf.keras.layers.Conv2D(filters=32, kernel_size=3, activation='relu', input_shape=[64, 64, 1]))"
   ]
  },
  {
   "cell_type": "markdown",
   "metadata": {},
   "source": [
    "Adding the second convolutional layer."
   ]
  },
  {
   "cell_type": "code",
   "execution_count": 46,
   "metadata": {},
   "outputs": [],
   "source": [
    "cnn_2.add(tf.keras.layers.Conv2D(filters=64, kernel_size=3, activation='relu'))"
   ]
  },
  {
   "cell_type": "markdown",
   "metadata": {},
   "source": [
    "Adding the third convolutional layer."
   ]
  },
  {
   "cell_type": "code",
   "execution_count": 47,
   "metadata": {},
   "outputs": [],
   "source": [
    "cnn_2.add(tf.keras.layers.Conv2D(filters=128, kernel_size=3, activation='relu'))"
   ]
  },
  {
   "cell_type": "markdown",
   "metadata": {},
   "source": [
    "Adding the MaxPooling layer."
   ]
  },
  {
   "cell_type": "code",
   "execution_count": 48,
   "metadata": {},
   "outputs": [],
   "source": [
    "cnn_2.add(tf.keras.layers.MaxPool2D(pool_size=(2,2), strides=1))"
   ]
  },
  {
   "cell_type": "markdown",
   "metadata": {},
   "source": [
    "Adding the dropout layer."
   ]
  },
  {
   "cell_type": "code",
   "execution_count": 49,
   "metadata": {},
   "outputs": [],
   "source": [
    "cnn_2.add(tf.keras.layers.Dropout(0.2))"
   ]
  },
  {
   "cell_type": "markdown",
   "metadata": {},
   "source": [
    "Adding the flattening layer."
   ]
  },
  {
   "cell_type": "code",
   "execution_count": 50,
   "metadata": {},
   "outputs": [],
   "source": [
    "cnn_2.add(tf.keras.layers.Flatten())"
   ]
  },
  {
   "cell_type": "markdown",
   "metadata": {},
   "source": [
    "Adding the layer of neurons."
   ]
  },
  {
   "cell_type": "code",
   "execution_count": 51,
   "metadata": {},
   "outputs": [],
   "source": [
    "cnn_2.add(tf.keras.layers.Dense(128, activation='relu'))"
   ]
  },
  {
   "cell_type": "markdown",
   "metadata": {},
   "source": [
    "Adding the output layer."
   ]
  },
  {
   "cell_type": "code",
   "execution_count": 52,
   "metadata": {},
   "outputs": [],
   "source": [
    "cnn_2.add(tf.keras.layers.Dense(62, activation='softmax'))"
   ]
  },
  {
   "cell_type": "code",
   "execution_count": 53,
   "metadata": {},
   "outputs": [],
   "source": [
    "cnn_2.compile(optimizer='adam', loss='categorical_crossentropy', metrics=['accuracy'])"
   ]
  },
  {
   "cell_type": "markdown",
   "metadata": {},
   "source": [
    "### Training the model on the new sample of images."
   ]
  },
  {
   "cell_type": "code",
   "execution_count": 54,
   "metadata": {},
   "outputs": [
    {
     "name": "stdout",
     "output_type": "stream",
     "text": [
      "Train on 778 samples, validate on 195 samples\n",
      "Epoch 1/15\n",
      "778/778 [==============================] - 26s 34ms/sample - loss: 122.9115 - accuracy: 0.2648 - val_loss: 2.1949 - val_accuracy: 0.5692\n",
      "Epoch 2/15\n",
      "778/778 [==============================] - 27s 35ms/sample - loss: 1.2815 - accuracy: 0.6928 - val_loss: 0.7230 - val_accuracy: 0.8256\n",
      "Epoch 3/15\n",
      "778/778 [==============================] - 30s 39ms/sample - loss: 0.3666 - accuracy: 0.9010 - val_loss: 0.5307 - val_accuracy: 0.8872\n",
      "Epoch 4/15\n",
      "778/778 [==============================] - 28s 36ms/sample - loss: 0.0841 - accuracy: 0.9730 - val_loss: 0.4967 - val_accuracy: 0.8974\n",
      "Epoch 5/15\n",
      "778/778 [==============================] - 29s 37ms/sample - loss: 0.0280 - accuracy: 0.9936 - val_loss: 0.5582 - val_accuracy: 0.9128\n",
      "Epoch 6/15\n",
      "778/778 [==============================] - 28s 36ms/sample - loss: 0.0047 - accuracy: 0.9974 - val_loss: 0.6722 - val_accuracy: 0.9231\n",
      "Epoch 7/15\n",
      "778/778 [==============================] - 26s 34ms/sample - loss: 0.0029 - accuracy: 0.9987 - val_loss: 0.7045 - val_accuracy: 0.9179\n",
      "Epoch 8/15\n",
      "778/778 [==============================] - 26s 34ms/sample - loss: 5.6433e-04 - accuracy: 1.0000 - val_loss: 0.7850 - val_accuracy: 0.9179\n",
      "Epoch 9/15\n",
      "778/778 [==============================] - 27s 34ms/sample - loss: 3.2396e-04 - accuracy: 1.0000 - val_loss: 0.8255 - val_accuracy: 0.9231\n",
      "Epoch 10/15\n",
      "778/778 [==============================] - 26s 34ms/sample - loss: 1.7651e-04 - accuracy: 1.0000 - val_loss: 0.8358 - val_accuracy: 0.9231\n",
      "Epoch 11/15\n",
      "778/778 [==============================] - 28s 36ms/sample - loss: 1.0231e-04 - accuracy: 1.0000 - val_loss: 0.8402 - val_accuracy: 0.9231\n",
      "Epoch 12/15\n",
      "778/778 [==============================] - 28s 36ms/sample - loss: 8.0279e-05 - accuracy: 1.0000 - val_loss: 0.8458 - val_accuracy: 0.9282\n",
      "Epoch 13/15\n",
      "778/778 [==============================] - 28s 35ms/sample - loss: 5.5196e-05 - accuracy: 1.0000 - val_loss: 0.8509 - val_accuracy: 0.9282\n",
      "Epoch 14/15\n",
      "778/778 [==============================] - 27s 35ms/sample - loss: 6.7231e-05 - accuracy: 1.0000 - val_loss: 0.8559 - val_accuracy: 0.9231\n",
      "Epoch 15/15\n",
      "778/778 [==============================] - 27s 34ms/sample - loss: 4.4462e-05 - accuracy: 1.0000 - val_loss: 0.8644 - val_accuracy: 0.9231\n"
     ]
    },
    {
     "data": {
      "text/plain": [
       "<tensorflow.python.keras.callbacks.History at 0x1a71bfb2a08>"
      ]
     },
     "execution_count": 54,
     "metadata": {},
     "output_type": "execute_result"
    }
   ],
   "source": [
    "cnn_2.fit(x=x_3, y=y_3, batch_size=100, validation_split=0.2, epochs=15)"
   ]
  },
  {
   "cell_type": "markdown",
   "metadata": {},
   "source": [
    "## Evaluating the model on the standard MNIST test split."
   ]
  },
  {
   "cell_type": "code",
   "execution_count": 57,
   "metadata": {},
   "outputs": [
    {
     "name": "stdout",
     "output_type": "stream",
     "text": [
      "10000/10000 [==============================] - 55s 5ms/sample - loss: 0.6853 - accuracy: 0.9048\n"
     ]
    }
   ],
   "source": [
    "results_2 = cnn_2.evaluate(255 - test_images, test_y, batch_size=128)"
   ]
  },
  {
   "cell_type": "code",
   "execution_count": 58,
   "metadata": {},
   "outputs": [
    {
     "name": "stdout",
     "output_type": "stream",
     "text": [
      "Accuracy: 0.9048\n"
     ]
    }
   ],
   "source": [
    "print(\"Accuracy:\", results_2[1])"
   ]
  },
  {
   "cell_type": "markdown",
   "metadata": {},
   "source": [
    "The second CNN had an accuracy of 90.48% on the standard MNIST test split.\n",
    "\n",
    "For the second CNN, that was trained using scratch random initialization on the small dataset had a lower accuracy.\n",
    "This CNN was trained on a fairly smaller dataset."
   ]
  },
  {
   "cell_type": "markdown",
   "metadata": {},
   "source": [
    "<p>Loss Function graph: For the first model trained on the training dataset provided in part 1.</p><br/>\n",
    "<img src=\"pt1.jpg\"><br/>\n",
    "<p>Loss Function graph: For the second model trained on the training dataset provided in part 3.</p><br/>\n",
    "<img src=\"pt2.jpg\">"
   ]
  },
  {
   "cell_type": "markdown",
   "metadata": {},
   "source": [
    "For the dataset provided in part 1, there were 62 types of characters including alphabets also, along with the digits and so the validation accuracy was very low because there must have been many cases where 'i' must have been considered '1' or '0'(zero) must have been considered 'o' and many such cases.\n",
    "\n",
    "But, for the dataset provided in part 2, there were only digits and so the validation accuracy was much higher and also the convergence time was much quicker."
   ]
  },
  {
   "cell_type": "code",
   "execution_count": null,
   "metadata": {},
   "outputs": [],
   "source": []
  }
 ],
 "metadata": {
  "kernelspec": {
   "display_name": "Python 3",
   "language": "python",
   "name": "python3"
  },
  "language_info": {
   "codemirror_mode": {
    "name": "ipython",
    "version": 3
   },
   "file_extension": ".py",
   "mimetype": "text/x-python",
   "name": "python",
   "nbconvert_exporter": "python",
   "pygments_lexer": "ipython3",
   "version": "3.7.6"
  }
 },
 "nbformat": 4,
 "nbformat_minor": 4
}
