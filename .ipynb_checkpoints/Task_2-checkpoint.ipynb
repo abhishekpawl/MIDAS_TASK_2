{
 "cells": [
  {
   "cell_type": "markdown",
   "metadata": {},
   "source": [
    "### Importing the required libraries"
   ]
  },
  {
   "cell_type": "code",
   "execution_count": 1,
   "metadata": {},
   "outputs": [
    {
     "name": "stderr",
     "output_type": "stream",
     "text": [
      "C:\\ProgramData\\Anaconda3\\lib\\site-packages\\tensorflow\\python\\framework\\dtypes.py:523: FutureWarning: Passing (type, 1) or '1type' as a synonym of type is deprecated; in a future version of numpy, it will be understood as (type, (1,)) / '(1,)type'.\n",
      "  _np_qint8 = np.dtype([(\"qint8\", np.int8, 1)])\n",
      "C:\\ProgramData\\Anaconda3\\lib\\site-packages\\tensorflow\\python\\framework\\dtypes.py:524: FutureWarning: Passing (type, 1) or '1type' as a synonym of type is deprecated; in a future version of numpy, it will be understood as (type, (1,)) / '(1,)type'.\n",
      "  _np_quint8 = np.dtype([(\"quint8\", np.uint8, 1)])\n",
      "C:\\ProgramData\\Anaconda3\\lib\\site-packages\\tensorflow\\python\\framework\\dtypes.py:525: FutureWarning: Passing (type, 1) or '1type' as a synonym of type is deprecated; in a future version of numpy, it will be understood as (type, (1,)) / '(1,)type'.\n",
      "  _np_qint16 = np.dtype([(\"qint16\", np.int16, 1)])\n",
      "C:\\ProgramData\\Anaconda3\\lib\\site-packages\\tensorflow\\python\\framework\\dtypes.py:526: FutureWarning: Passing (type, 1) or '1type' as a synonym of type is deprecated; in a future version of numpy, it will be understood as (type, (1,)) / '(1,)type'.\n",
      "  _np_quint16 = np.dtype([(\"quint16\", np.uint16, 1)])\n",
      "C:\\ProgramData\\Anaconda3\\lib\\site-packages\\tensorflow\\python\\framework\\dtypes.py:527: FutureWarning: Passing (type, 1) or '1type' as a synonym of type is deprecated; in a future version of numpy, it will be understood as (type, (1,)) / '(1,)type'.\n",
      "  _np_qint32 = np.dtype([(\"qint32\", np.int32, 1)])\n",
      "C:\\ProgramData\\Anaconda3\\lib\\site-packages\\tensorflow\\python\\framework\\dtypes.py:532: FutureWarning: Passing (type, 1) or '1type' as a synonym of type is deprecated; in a future version of numpy, it will be understood as (type, (1,)) / '(1,)type'.\n",
      "  np_resource = np.dtype([(\"resource\", np.ubyte, 1)])\n",
      "C:\\ProgramData\\Anaconda3\\lib\\site-packages\\tensorboard\\compat\\tensorflow_stub\\dtypes.py:541: FutureWarning: Passing (type, 1) or '1type' as a synonym of type is deprecated; in a future version of numpy, it will be understood as (type, (1,)) / '(1,)type'.\n",
      "  _np_qint8 = np.dtype([(\"qint8\", np.int8, 1)])\n",
      "C:\\ProgramData\\Anaconda3\\lib\\site-packages\\tensorboard\\compat\\tensorflow_stub\\dtypes.py:542: FutureWarning: Passing (type, 1) or '1type' as a synonym of type is deprecated; in a future version of numpy, it will be understood as (type, (1,)) / '(1,)type'.\n",
      "  _np_quint8 = np.dtype([(\"quint8\", np.uint8, 1)])\n",
      "C:\\ProgramData\\Anaconda3\\lib\\site-packages\\tensorboard\\compat\\tensorflow_stub\\dtypes.py:543: FutureWarning: Passing (type, 1) or '1type' as a synonym of type is deprecated; in a future version of numpy, it will be understood as (type, (1,)) / '(1,)type'.\n",
      "  _np_qint16 = np.dtype([(\"qint16\", np.int16, 1)])\n",
      "C:\\ProgramData\\Anaconda3\\lib\\site-packages\\tensorboard\\compat\\tensorflow_stub\\dtypes.py:544: FutureWarning: Passing (type, 1) or '1type' as a synonym of type is deprecated; in a future version of numpy, it will be understood as (type, (1,)) / '(1,)type'.\n",
      "  _np_quint16 = np.dtype([(\"quint16\", np.uint16, 1)])\n",
      "C:\\ProgramData\\Anaconda3\\lib\\site-packages\\tensorboard\\compat\\tensorflow_stub\\dtypes.py:545: FutureWarning: Passing (type, 1) or '1type' as a synonym of type is deprecated; in a future version of numpy, it will be understood as (type, (1,)) / '(1,)type'.\n",
      "  _np_qint32 = np.dtype([(\"qint32\", np.int32, 1)])\n",
      "C:\\ProgramData\\Anaconda3\\lib\\site-packages\\tensorboard\\compat\\tensorflow_stub\\dtypes.py:550: FutureWarning: Passing (type, 1) or '1type' as a synonym of type is deprecated; in a future version of numpy, it will be understood as (type, (1,)) / '(1,)type'.\n",
      "  np_resource = np.dtype([(\"resource\", np.ubyte, 1)])\n",
      "Using TensorFlow backend.\n"
     ]
    }
   ],
   "source": [
    "import tensorflow as tf\n",
    "from keras.preprocessing.image import ImageDataGenerator"
   ]
  },
  {
   "cell_type": "markdown",
   "metadata": {},
   "source": [
    "### Importing and preprocessing the training set"
   ]
  },
  {
   "cell_type": "markdown",
   "metadata": {},
   "source": [
    "Applying image augmentation to avoid overfitting."
   ]
  },
  {
   "cell_type": "code",
   "execution_count": 2,
   "metadata": {},
   "outputs": [],
   "source": [
    "train_datagen = ImageDataGenerator(\n",
    "    rescale=1./255,\n",
    "    shear_range=0.2,\n",
    "    zoom_range=0.2,\n",
    "    horizontal_flip=True,\n",
    ")"
   ]
  },
  {
   "cell_type": "markdown",
   "metadata": {},
   "source": [
    "Preparing the class list."
   ]
  },
  {
   "cell_type": "code",
   "execution_count": 3,
   "metadata": {},
   "outputs": [],
   "source": [
    "class_list = []\n",
    "num = 48\n",
    "cap = 65\n",
    "small = 97\n",
    "for i in range(0, 62):\n",
    "    if i <= 9:\n",
    "        class_list.append(chr(num))\n",
    "        num = num + 1\n",
    "    elif i > 9 and i <= 35:\n",
    "        class_list.append(chr(cap))\n",
    "        cap = cap + 1\n",
    "    else:\n",
    "        class_list.append(chr(small))\n",
    "        small = small + 1"
   ]
  },
  {
   "cell_type": "code",
   "execution_count": 4,
   "metadata": {},
   "outputs": [
    {
     "name": "stdout",
     "output_type": "stream",
     "text": [
      "['0', '1', '2', '3', '4', '5', '6', '7', '8', '9', 'A', 'B', 'C', 'D', 'E', 'F', 'G', 'H', 'I', 'J', 'K', 'L', 'M', 'N', 'O', 'P', 'Q', 'R', 'S', 'T', 'U', 'V', 'W', 'X', 'Y', 'Z', 'a', 'b', 'c', 'd', 'e', 'f', 'g', 'h', 'i', 'j', 'k', 'l', 'm', 'n', 'o', 'p', 'q', 'r', 's', 't', 'u', 'v', 'w', 'x', 'y', 'z']\n"
     ]
    }
   ],
   "source": [
    "print(class_list)"
   ]
  },
  {
   "cell_type": "code",
   "execution_count": 5,
   "metadata": {},
   "outputs": [
    {
     "name": "stdout",
     "output_type": "stream",
     "text": [
      "Found 2480 images belonging to 62 classes.\n"
     ]
    }
   ],
   "source": [
    "train_set = train_datagen.flow_from_directory(\n",
    "    'Training_Set',\n",
    "    target_size=(28, 28),\n",
    "    batch_size=32,\n",
    "    color_mode='grayscale',\n",
    "    class_mode='categorical'\n",
    ")"
   ]
  },
  {
   "cell_type": "code",
   "execution_count": 6,
   "metadata": {},
   "outputs": [
    {
     "data": {
      "text/plain": [
       "{'Sample001': 0,\n",
       " 'Sample002': 1,\n",
       " 'Sample003': 2,\n",
       " 'Sample004': 3,\n",
       " 'Sample005': 4,\n",
       " 'Sample006': 5,\n",
       " 'Sample007': 6,\n",
       " 'Sample008': 7,\n",
       " 'Sample009': 8,\n",
       " 'Sample010': 9,\n",
       " 'Sample011': 10,\n",
       " 'Sample012': 11,\n",
       " 'Sample013': 12,\n",
       " 'Sample014': 13,\n",
       " 'Sample015': 14,\n",
       " 'Sample016': 15,\n",
       " 'Sample017': 16,\n",
       " 'Sample018': 17,\n",
       " 'Sample019': 18,\n",
       " 'Sample020': 19,\n",
       " 'Sample021': 20,\n",
       " 'Sample022': 21,\n",
       " 'Sample023': 22,\n",
       " 'Sample024': 23,\n",
       " 'Sample025': 24,\n",
       " 'Sample026': 25,\n",
       " 'Sample027': 26,\n",
       " 'Sample028': 27,\n",
       " 'Sample029': 28,\n",
       " 'Sample030': 29,\n",
       " 'Sample031': 30,\n",
       " 'Sample032': 31,\n",
       " 'Sample033': 32,\n",
       " 'Sample034': 33,\n",
       " 'Sample035': 34,\n",
       " 'Sample036': 35,\n",
       " 'Sample037': 36,\n",
       " 'Sample038': 37,\n",
       " 'Sample039': 38,\n",
       " 'Sample040': 39,\n",
       " 'Sample041': 40,\n",
       " 'Sample042': 41,\n",
       " 'Sample043': 42,\n",
       " 'Sample044': 43,\n",
       " 'Sample045': 44,\n",
       " 'Sample046': 45,\n",
       " 'Sample047': 46,\n",
       " 'Sample048': 47,\n",
       " 'Sample049': 48,\n",
       " 'Sample050': 49,\n",
       " 'Sample051': 50,\n",
       " 'Sample052': 51,\n",
       " 'Sample053': 52,\n",
       " 'Sample054': 53,\n",
       " 'Sample055': 54,\n",
       " 'Sample056': 55,\n",
       " 'Sample057': 56,\n",
       " 'Sample058': 57,\n",
       " 'Sample059': 58,\n",
       " 'Sample060': 59,\n",
       " 'Sample061': 60,\n",
       " 'Sample062': 61}"
      ]
     },
     "execution_count": 6,
     "metadata": {},
     "output_type": "execute_result"
    }
   ],
   "source": [
    "train_set.class_indices"
   ]
  },
  {
   "cell_type": "markdown",
   "metadata": {},
   "source": [
    "## Building the CNN"
   ]
  },
  {
   "cell_type": "markdown",
   "metadata": {},
   "source": [
    "Initializing the CNN."
   ]
  },
  {
   "cell_type": "code",
   "execution_count": 7,
   "metadata": {},
   "outputs": [],
   "source": [
    "cnn = tf.keras.models.Sequential()"
   ]
  },
  {
   "cell_type": "markdown",
   "metadata": {},
   "source": [
    "Adding the Convolution Layer."
   ]
  },
  {
   "cell_type": "code",
   "execution_count": 8,
   "metadata": {},
   "outputs": [],
   "source": [
    "cnn.add(tf.keras.layers.Conv2D(filters=16, kernel_size=3, activation='relu', input_shape=[28, 28, 1]))"
   ]
  },
  {
   "cell_type": "markdown",
   "metadata": {},
   "source": [
    "Adding the Pooling Layer."
   ]
  },
  {
   "cell_type": "code",
   "execution_count": 9,
   "metadata": {},
   "outputs": [],
   "source": [
    "cnn.add(tf.keras.layers.MaxPool2D(pool_size=2, strides=2))"
   ]
  },
  {
   "cell_type": "markdown",
   "metadata": {},
   "source": [
    "Adding another hidden layer of Convolution and Pooling."
   ]
  },
  {
   "cell_type": "code",
   "execution_count": 10,
   "metadata": {},
   "outputs": [],
   "source": [
    "cnn.add(tf.keras.layers.Conv2D(filters=16, kernel_size=3, activation='relu'))"
   ]
  },
  {
   "cell_type": "code",
   "execution_count": 11,
   "metadata": {},
   "outputs": [],
   "source": [
    "cnn.add(tf.keras.layers.MaxPool2D(pool_size=2, strides=2))"
   ]
  },
  {
   "cell_type": "markdown",
   "metadata": {},
   "source": [
    "Adding a flattening layer."
   ]
  },
  {
   "cell_type": "code",
   "execution_count": 12,
   "metadata": {},
   "outputs": [],
   "source": [
    "cnn.add(tf.keras.layers.Flatten())"
   ]
  },
  {
   "cell_type": "markdown",
   "metadata": {},
   "source": [
    "Adding a following dense neural network."
   ]
  },
  {
   "cell_type": "code",
   "execution_count": 13,
   "metadata": {},
   "outputs": [],
   "source": [
    "cnn.add(tf.keras.layers.Dense(units=128, activation='relu'))"
   ]
  },
  {
   "cell_type": "markdown",
   "metadata": {},
   "source": [
    "Adding the final output layer."
   ]
  },
  {
   "cell_type": "code",
   "execution_count": 14,
   "metadata": {},
   "outputs": [],
   "source": [
    "cnn.add(tf.keras.layers.Dense(units=62, activation='softmax'))"
   ]
  },
  {
   "cell_type": "markdown",
   "metadata": {},
   "source": [
    "## Training the CNN"
   ]
  },
  {
   "cell_type": "code",
   "execution_count": 15,
   "metadata": {},
   "outputs": [],
   "source": [
    "import keras\n",
    "cnn.compile(optimizer='adam', loss='categorical_crossentropy', metrics=[keras.metrics.AUC(), keras.metrics.Precision(), keras.metrics.Recall()])"
   ]
  },
  {
   "cell_type": "code",
   "execution_count": 16,
   "metadata": {},
   "outputs": [
    {
     "name": "stdout",
     "output_type": "stream",
     "text": [
      "Epoch 1/25\n",
      "78/78 [==============================] - 73s 932ms/step - loss: 4.1297 - auc_1: 0.5028 - precision_1: 0.0000e+00 - recall_1: 0.0000e+00\n",
      "Epoch 2/25\n",
      "78/78 [==============================] - 22s 286ms/step - loss: 3.9667 - auc_1: 0.5423 - precision_1: 0.0000e+00 - recall_1: 0.0000e+00\n",
      "Epoch 3/25\n",
      "78/78 [==============================] - 23s 292ms/step - loss: 3.3784 - auc_1: 0.6387 - precision_1: 0.5711 - recall_1: 8.0699e-04\n",
      "Epoch 4/25\n",
      "78/78 [==============================] - 22s 283ms/step - loss: 2.9653 - auc_1: 0.7159 - precision_1: 0.7571 - recall_1: 0.0057\n",
      "Epoch 5/25\n",
      "78/78 [==============================] - 22s 287ms/step - loss: 2.6206 - auc_1: 0.7666 - precision_1: 0.8173 - recall_1: 0.0162\n",
      "Epoch 6/25\n",
      "78/78 [==============================] - 22s 288ms/step - loss: 2.4174 - auc_1: 0.8019 - precision_1: 0.8014 - recall_1: 0.0298\n",
      "Epoch 7/25\n",
      "78/78 [==============================] - 23s 295ms/step - loss: 2.2432 - auc_1: 0.8270 - precision_1: 0.7768 - recall_1: 0.0442\n",
      "Epoch 8/25\n",
      "78/78 [==============================] - 25s 314ms/step - loss: 2.1201 - auc_1: 0.8462 - precision_1: 0.7682 - recall_1: 0.0581\n",
      "Epoch 9/25\n",
      "78/78 [==============================] - 24s 307ms/step - loss: 1.9937 - auc_1: 0.8613 - precision_1: 0.7718 - recall_1: 0.0727\n",
      "Epoch 10/25\n",
      "78/78 [==============================] - 24s 303ms/step - loss: 1.9191 - auc_1: 0.8732 - precision_1: 0.7713 - recall_1: 0.0868\n",
      "Epoch 11/25\n",
      "78/78 [==============================] - 24s 304ms/step - loss: 1.8117 - auc_1: 0.8832 - precision_1: 0.7737 - recall_1: 0.1022\n",
      "Epoch 12/25\n",
      "78/78 [==============================] - 37s 475ms/step - loss: 1.7874 - auc_1: 0.8916 - precision_1: 0.7742 - recall_1: 0.1164\n",
      "Epoch 13/25\n",
      "78/78 [==============================] - 26s 336ms/step - loss: 1.7032 - auc_1: 0.8985 - precision_1: 0.7739 - recall_1: 0.1288\n",
      "Epoch 14/25\n",
      "78/78 [==============================] - 25s 326ms/step - loss: 1.6505 - auc_1: 0.9047 - precision_1: 0.7761 - recall_1: 0.1425\n",
      "Epoch 15/25\n",
      "78/78 [==============================] - 28s 355ms/step - loss: 1.5938 - auc_1: 0.9101 - precision_1: 0.7780 - recall_1: 0.1548\n",
      "Epoch 16/25\n",
      "78/78 [==============================] - 28s 360ms/step - loss: 1.5376 - auc_1: 0.9149 - precision_1: 0.7822 - recall_1: 0.1672\n",
      "Epoch 17/25\n",
      "78/78 [==============================] - 30s 378ms/step - loss: 1.5115 - auc_1: 0.9190 - precision_1: 0.7848 - recall_1: 0.1786\n",
      "Epoch 18/25\n",
      "78/78 [==============================] - 29s 367ms/step - loss: 1.4508 - auc_1: 0.9230 - precision_1: 0.7863 - recall_1: 0.1897\n",
      "Epoch 19/25\n",
      "78/78 [==============================] - 28s 363ms/step - loss: 1.3926 - auc_1: 0.9266 - precision_1: 0.7894 - recall_1: 0.2010\n",
      "Epoch 20/25\n",
      "78/78 [==============================] - 28s 363ms/step - loss: 1.3801 - auc_1: 0.9298 - precision_1: 0.7914 - recall_1: 0.2113\n",
      "Epoch 21/25\n",
      "78/78 [==============================] - 30s 390ms/step - loss: 1.3059 - auc_1: 0.9328 - precision_1: 0.7933 - recall_1: 0.2219\n",
      "Epoch 22/25\n",
      "78/78 [==============================] - 29s 377ms/step - loss: 1.2852 - auc_1: 0.9356 - precision_1: 0.7946 - recall_1: 0.2320\n",
      "Epoch 23/25\n",
      "78/78 [==============================] - 29s 368ms/step - loss: 1.2341 - auc_1: 0.9381 - precision_1: 0.7951 - recall_1: 0.2416\n",
      "Epoch 24/25\n",
      "78/78 [==============================] - 29s 366ms/step - loss: 1.2159 - auc_1: 0.9405 - precision_1: 0.7978 - recall_1: 0.2516\n",
      "Epoch 25/25\n",
      "78/78 [==============================] - 30s 384ms/step - loss: 1.1979 - auc_1: 0.9427 - precision_1: 0.7993 - recall_1: 0.2606\n"
     ]
    },
    {
     "data": {
      "text/plain": [
       "<tensorflow.python.keras.callbacks.History at 0x1f86d72bac8>"
      ]
     },
     "execution_count": 16,
     "metadata": {},
     "output_type": "execute_result"
    }
   ],
   "source": [
    "cnn.fit(x=train_set, epochs=25)"
   ]
  },
  {
   "cell_type": "code",
   "execution_count": 17,
   "metadata": {},
   "outputs": [
    {
     "data": {
      "text/plain": [
       "<matplotlib.image.AxesImage at 0x1f872b94088>"
      ]
     },
     "execution_count": 17,
     "metadata": {},
     "output_type": "execute_result"
    },
    {
     "data": {
      "image/png": "[encoded data removed]",
      "text/plain": [
       "<Figure size 432x288 with 1 Axes>"
      ]
     },
     "metadata": {
      "needs_background": "light"
     },
     "output_type": "display_data"
    }
   ],
   "source": [
    "import numpy as np\n",
    "import idx2numpy\n",
    "import matplotlib.pyplot as plt\n",
    "\n",
    "imagefile = 't10k-images.idx3-ubyte'\n",
    "imagearray = idx2numpy.convert_from_file(imagefile)\n",
    "\n",
    "plt.imshow(imagearray[4], cmap=plt.cm.binary)"
   ]
  },
  {
   "cell_type": "markdown",
   "metadata": {},
   "source": [
    "## Making a sinle prediction"
   ]
  },
  {
   "cell_type": "code",
   "execution_count": 18,
   "metadata": {},
   "outputs": [],
   "source": [
    "from keras.preprocessing import image"
   ]
  },
  {
   "cell_type": "code",
   "execution_count": 19,
   "metadata": {},
   "outputs": [
    {
     "data": {
      "text/plain": [
       "numpy.ndarray"
      ]
     },
     "execution_count": 19,
     "metadata": {},
     "output_type": "execute_result"
    }
   ],
   "source": [
    "type(imagearray[4])"
   ]
  },
  {
   "cell_type": "code",
   "execution_count": 20,
   "metadata": {},
   "outputs": [],
   "source": [
    "batch1 = imagearray[0:32, :, :]"
   ]
  },
  {
   "cell_type": "code",
   "execution_count": 21,
   "metadata": {},
   "outputs": [],
   "source": [
    "batch1 = np.expand_dims(batch1, axis=3)"
   ]
  },
  {
   "cell_type": "code",
   "execution_count": 22,
   "metadata": {},
   "outputs": [],
   "source": [
    "result = cnn.predict(batch1)"
   ]
  },
  {
   "cell_type": "code",
   "execution_count": 23,
   "metadata": {},
   "outputs": [
    {
     "data": {
      "text/plain": [
       "array([[0., 0., 0., ..., 0., 0., 0.],\n",
       "       [0., 0., 1., ..., 0., 0., 0.],\n",
       "       [0., 0., 0., ..., 0., 0., 0.],\n",
       "       ...,\n",
       "       [0., 0., 0., ..., 0., 0., 0.],\n",
       "       [0., 0., 0., ..., 0., 0., 0.],\n",
       "       [0., 0., 0., ..., 0., 0., 0.]], dtype=float32)"
      ]
     },
     "execution_count": 23,
     "metadata": {},
     "output_type": "execute_result"
    }
   ],
   "source": [
    "result"
   ]
  },
  {
   "cell_type": "code",
   "execution_count": 24,
   "metadata": {},
   "outputs": [
    {
     "data": {
      "text/plain": [
       "(32, 62)"
      ]
     },
     "execution_count": 24,
     "metadata": {},
     "output_type": "execute_result"
    }
   ],
   "source": [
    "result.shape"
   ]
  },
  {
   "cell_type": "code",
   "execution_count": 43,
   "metadata": {},
   "outputs": [
    {
     "data": {
      "text/plain": [
       "<matplotlib.image.AxesImage at 0x1f87310bbc8>"
      ]
     },
     "execution_count": 43,
     "metadata": {},
     "output_type": "execute_result"
    },
    {
     "data": {
      "image/png": "[encoded data removed]",
      "text/plain": [
       "<Figure size 432x288 with 1 Axes>"
      ]
     },
     "metadata": {
      "needs_background": "light"
     },
     "output_type": "display_data"
    }
   ],
   "source": [
    "plt.imshow(np.squeeze(batch1[14], axis=2), cmap=plt.cm.binary)"
   ]
  },
  {
   "cell_type": "code",
   "execution_count": 44,
   "metadata": {},
   "outputs": [
    {
     "data": {
      "text/plain": [
       "1.0"
      ]
     },
     "execution_count": 44,
     "metadata": {},
     "output_type": "execute_result"
    }
   ],
   "source": [
    "np.max(result[14])"
   ]
  },
  {
   "cell_type": "code",
   "execution_count": 45,
   "metadata": {},
   "outputs": [
    {
     "data": {
      "text/plain": [
       "18"
      ]
     },
     "execution_count": 45,
     "metadata": {},
     "output_type": "execute_result"
    }
   ],
   "source": [
    "np.where(result[14] == np.max(result[14]))[0][0]"
   ]
  },
  {
   "cell_type": "code",
   "execution_count": 47,
   "metadata": {},
   "outputs": [
    {
     "data": {
      "text/plain": [
       "'I'"
      ]
     },
     "execution_count": 47,
     "metadata": {},
     "output_type": "execute_result"
    }
   ],
   "source": [
    "class_list[18]"
   ]
  },
  {
   "cell_type": "code",
   "execution_count": null,
   "metadata": {},
   "outputs": [],
   "source": []
  }
 ],
 "metadata": {
  "kernelspec": {
   "display_name": "Python 3",
   "language": "python",
   "name": "python3"
  },
  "language_info": {
   "codemirror_mode": {
    "name": "ipython",
    "version": 3
   },
   "file_extension": ".py",
   "mimetype": "text/x-python",
   "name": "python",
   "nbconvert_exporter": "python",
   "pygments_lexer": "ipython3",
   "version": "3.7.6"
  }
 },
 "nbformat": 4,
 "nbformat_minor": 4
}
